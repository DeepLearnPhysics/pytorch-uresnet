{
 "cells": [
  {
   "cell_type": "markdown",
   "metadata": {},
   "source": [
    "# Sandbox for looking at output of trained UResNet "
   ]
  },
  {
   "cell_type": "code",
   "execution_count": null,
   "metadata": {},
   "outputs": [],
   "source": [
    "import os,sys,time\n",
    "import ROOT\n",
    "from ROOT import std\n",
    "from larcv import larcv\n",
    "import numpy as np\n",
    "\n",
    "# torch\n",
    "import torch\n",
    "import torch.nn as nn\n",
    "import torch.nn.parallel\n",
    "import torch.backends.cudnn as cudnn\n",
    "import torch.distributed as dist\n",
    "import torch.optim\n",
    "import torch.utils.data\n",
    "import torch.utils.data.distributed\n",
    "import torchvision.transforms as transforms\n",
    "import torchvision.datasets as datasets\n",
    "import torchvision.models as models\n",
    "import torch.nn.functional as F\n",
    "\n",
    "# Our model definition\n",
    "from caffe_uresnet import UResNet\n",
    "\n",
    "\n",
    "\n",
    "GPUMODE=True\n",
    "\n",
    "%matplotlib notebook\n",
    "import matplotlib.pyplot as plt"
   ]
  },
  {
   "cell_type": "code",
   "execution_count": null,
   "metadata": {},
   "outputs": [],
   "source": [
    "# Set GPU ID\n",
    "GPUID=1"
   ]
  },
  {
   "cell_type": "markdown",
   "metadata": {},
   "source": [
    "## Setup Network"
   ]
  },
  {
   "cell_type": "code",
   "execution_count": null,
   "metadata": {},
   "outputs": [],
   "source": [
    "# create instance\n",
    "net = UResNet(inplanes=16,input_channels=1,num_classes=3)\n",
    "if GPUMODE:\n",
    "    net.cuda(GPUID)"
   ]
  },
  {
   "cell_type": "code",
   "execution_count": null,
   "metadata": {},
   "outputs": [],
   "source": [
    "# load weights\n",
    "weightfile=\"checkpoint.2000th.tar\"\n",
    "\n",
    "checkpoint = torch.load( weightfile )\n",
    "net.load_state_dict(checkpoint[\"state_dict\"])\n"
   ]
  },
  {
   "cell_type": "markdown",
   "metadata": {},
   "source": [
    "## Setup Image IO"
   ]
  },
  {
   "cell_type": "code",
   "execution_count": null,
   "metadata": {},
   "outputs": [],
   "source": [
    "# Define IO Class\n",
    "\n",
    "# Segment Image Data Class\n",
    "# we expect LArCV1Dataset to fill this object\n",
    "class SegData:\n",
    "    def __init__(self):\n",
    "        self.dim = None\n",
    "        self.images = None # adc image\n",
    "        self.labels = None # labels\n",
    "        self.weights = None # weights\n",
    "        return\n",
    "\n",
    "    def shape(self):\n",
    "        if self.dim is None:\n",
    "            raise ValueError(\"SegData instance hasn't been filled yet\")\n",
    "        return self.dim\n",
    "\n",
    "# Data interface\n",
    "class LArCV1Dataset:\n",
    "    def __init__(self, name, cfgfile ):\n",
    "        # inputs\n",
    "        # cfgfile: path to configuration. see test.py.ipynb for example of configuration\n",
    "        self.name = name\n",
    "        self.cfgfile = cfgfile\n",
    "        return\n",
    "      \n",
    "    def init(self):\n",
    "        # create instance of data file interface\n",
    "        self.io = larcv.ThreadDatumFiller(self.name)\n",
    "        self.io.configure(self.cfgfile)\n",
    "        self.nentries = self.io.get_n_entries()\n",
    "        self.io.set_next_index(0)\n",
    "        print \"[LArCV1Data] able to create ThreadDatumFiller\"\n",
    "        return\n",
    "        \n",
    "    def getbatch(self, batchsize):\n",
    "        self.io.batch_process(batchsize)\n",
    "        time.sleep(0.1)\n",
    "        itry = 0\n",
    "        while self.io.thread_running() and itry<100:\n",
    "            time.sleep(0.01)\n",
    "            itry += 1\n",
    "        if itry>=100:\n",
    "            raise RuntimeError(\"Batch Loader timed out\")\n",
    "        \n",
    "        # fill SegData object\n",
    "        data = SegData()\n",
    "        dimv = self.io.dim() # c++ std vector through ROOT bindings\n",
    "        self.dim     = (dimv[0], dimv[1], dimv[2], dimv[3] )\n",
    "        self.dim3    = (dimv[0], dimv[2], dimv[3] )\n",
    "\n",
    "        # numpy arrays\n",
    "        data.np_images  = np.zeros( self.dim,  dtype=np.float32 )\n",
    "        data.np_labels  = np.zeros( self.dim3, dtype=np.int )\n",
    "        data.np_weights = np.zeros( self.dim3, dtype=np.float32 )\n",
    "        data.np_images[:]  = larcv.as_ndarray(self.io.data()).reshape(    self.dim  )[:]\n",
    "        data.np_labels[:]  = larcv.as_ndarray(self.io.labels()).reshape(  self.dim3 )[:]\n",
    "        data.np_weights[:] = larcv.as_ndarray(self.io.weights()).reshape( self.dim3 )[:]\n",
    "        data.np_labels[:] += -1\n",
    "        \n",
    "        # pytorch tensors\n",
    "        data.images = torch.from_numpy(data.np_images)\n",
    "        data.labels = torch.from_numpy(data.np_labels)\n",
    "        data.weight = torch.from_numpy(data.np_weights)\n",
    "        #if GPUMODE:\n",
    "        #    data.images.cuda()\n",
    "        #    data.labels.cuda(async=False)\n",
    "        #    data.weight.cuda(async=False)\n",
    "\n",
    "\n",
    "        # debug values\n",
    "        #print \"max label: \",np.max(data.labels)\n",
    "        #print \"min label: \",np.min(data.labels)\n",
    "        \n",
    "        return data"
   ]
  },
  {
   "cell_type": "code",
   "execution_count": null,
   "metadata": {},
   "outputs": [],
   "source": [
    "# write configuration file\n",
    "testcfg = \"\"\"ThreadDatumFillerTest: {\n",
    "\n",
    "  Verbosity:    2\n",
    "  EnableFilter: false\n",
    "  RandomAccess: true\n",
    "  UseThread:    false\n",
    "  #InputFiles:   [\"/mnt/raid0/taritree/ssnet_training_data/train02.root\"]  \n",
    "  InputFiles:   [\"/media/hdd1/larbys/ssnet_dllee_trainingdata/train02.root\"]  \n",
    "  ProcessType:  [\"SegFiller\"]\n",
    "  ProcessName:  [\"SegFiller\"]\n",
    "\n",
    "  IOManager: {\n",
    "    Verbosity: 2\n",
    "    IOMode: 0\n",
    "    ReadOnlyTypes: [0,0,0]\n",
    "    ReadOnlyNames: [\"wire\",\"segment\",\"ts_keyspweight\"]\n",
    "  }\n",
    "    \n",
    "  ProcessList: {\n",
    "    SegFiller: {\n",
    "      # DatumFillerBase configuration\n",
    "      Verbosity: 2\n",
    "      ImageProducer:     \"wire\"\n",
    "      LabelProducer:     \"segment\"\n",
    "      WeightProducer:    \"ts_keyspweight\"\n",
    "      # SegFiller configuration\n",
    "      Channels: [2]\n",
    "      SegChannel: 2\n",
    "      EnableMirror: false\n",
    "      EnableCrop: false\n",
    "      ClassTypeList: [0,1,2]\n",
    "      ClassTypeDef: [0,0,0,2,2,2,1,1,1,1]\n",
    "    }\n",
    "  }\n",
    "}\n",
    "\"\"\"\n",
    "    \n",
    "with open(\"segfiller_test.cfg\",'w') as fvalid:\n",
    "    print >> fvalid,testcfg\n",
    "    \n",
    "io = LArCV1Dataset(\"ThreadDatumFillerTest\",\"segfiller_test.cfg\" )\n",
    "io.init()"
   ]
  },
  {
   "cell_type": "markdown",
   "metadata": {},
   "source": [
    "## Run Network"
   ]
  },
  {
   "cell_type": "code",
   "execution_count": null,
   "metadata": {},
   "outputs": [],
   "source": [
    "# Get batch\n",
    "batch = io.getbatch(8)"
   ]
  },
  {
   "cell_type": "code",
   "execution_count": null,
   "metadata": {},
   "outputs": [],
   "source": [
    "# convert images into pytorch variables, then pass to net\n",
    "\n",
    "if GPUMODE:\n",
    "    img_var = torch.autograd.Variable(batch.images.cuda(GPUID))\n",
    "else:\n",
    "    img_var = torch.autograd.Variable(batch.images)\n",
    "out_var = net(img_var)"
   ]
  },
  {
   "cell_type": "code",
   "execution_count": null,
   "metadata": {},
   "outputs": [],
   "source": [
    "# turn output into labels (transfer back from gpu if necesary)\n",
    "\n",
    "out_np = out_var.data.cpu().numpy()\n",
    "decision_np = np.argmax( out_np, axis=1 )\n"
   ]
  },
  {
   "cell_type": "markdown",
   "metadata": {},
   "source": [
    "# Plotting"
   ]
  },
  {
   "cell_type": "code",
   "execution_count": null,
   "metadata": {},
   "outputs": [],
   "source": [
    "# function for plotting side-by-side\n",
    "\n",
    "def showImgAndLabels(image2d,label2d,weight2d):\n",
    "    # Dump images\n",
    "    fig, (ax0,ax1,ax2) = plt.subplots(1, 3, figsize=(10,10), facecolor='w')\n",
    "    ax0.imshow(image2d,  interpolation='none', cmap='jet', origin='lower')\n",
    "    ax1.imshow(label2d,  interpolation='none', cmap='jet', origin='lower',vmin=0., vmax=3.1)\n",
    "    ax2.imshow(weight2d, interpolation='none', cmap='jet', origin='lower',vmin=0., vmax=3.1)\n",
    "    ax0.set_title('Data',fontsize=20,fontname='Georgia',fontweight='bold')\n",
    "    #ax0.set_xlim(xlim)\n",
    "    #ax0.set_ylim(ylim)\n",
    "    ax1.set_title('Label',fontsize=20,fontname='Georgia',fontweight='bold')\n",
    "    #ax1.set_xlim(xlim)\n",
    "    #ax1.set_ylim(ylim)\n",
    "    ax2.set_title('Network Out',fontsize=20,fontname='Georgia',fontweight='bold')\n",
    "    plt.show()"
   ]
  },
  {
   "cell_type": "code",
   "execution_count": null,
   "metadata": {
    "scrolled": false
   },
   "outputs": [],
   "source": [
    "for ibatch in range(out_var.shape[0]):\n",
    "    img_np = batch.images.cpu().numpy()[ibatch,0,:,:]\n",
    "    labels = batch.labels.cpu().numpy()[ibatch,:,:]\n",
    "    decision = decision_np[ibatch,:,:]\n",
    "    showImgAndLabels(img_np,labels,decision)"
   ]
  },
  {
   "cell_type": "code",
   "execution_count": null,
   "metadata": {},
   "outputs": [],
   "source": []
  }
 ],
 "metadata": {
  "kernelspec": {
   "display_name": "Python 2",
   "language": "python",
   "name": "python2"
  },
  "language_info": {
   "codemirror_mode": {
    "name": "ipython",
    "version": 2
   },
   "file_extension": ".py",
   "mimetype": "text/x-python",
   "name": "python",
   "nbconvert_exporter": "python",
   "pygments_lexer": "ipython2",
   "version": "2.7.12"
  }
 },
 "nbformat": 4,
 "nbformat_minor": 2
}
