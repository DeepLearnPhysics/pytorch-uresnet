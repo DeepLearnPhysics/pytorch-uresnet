{
 "cells": [
  {
   "cell_type": "code",
   "execution_count": null,
   "metadata": {},
   "outputs": [],
   "source": [
    "import os,sys,time\n",
    "import ROOT\n",
    "from ROOT import std\n",
    "from larcv import larcv\n",
    "import numpy as np\n",
    "\n",
    "%matplotlib notebook\n",
    "import matplotlib.pyplot as plt"
   ]
  },
  {
   "cell_type": "code",
   "execution_count": null,
   "metadata": {},
   "outputs": [],
   "source": [
    "segcfg=\"\"\"ThreadDatumFiller: {\n",
    "\n",
    "  Verbosity:    2\n",
    "  EnableFilter: false\n",
    "  RandomAccess: true\n",
    "  UseThread:    false\n",
    "  InputFiles:   [\"/mnt/raid0/taritree/ssnet_training_data/train00.root\"]  \n",
    "  ProcessType:  [\"SegFiller\"]\n",
    "  ProcessName:  [\"SegFiller\"]\n",
    "    \n",
    "  IOManager: {\n",
    "    Verbosity: 2\n",
    "    IOMode: 0\n",
    "    ReadOnlyNames: [\"wire\",\"segment\",\"ts_keyspweight\"]\n",
    "    ReadOnlyTypes: [0,0,0]\n",
    "  }  \n",
    "    \n",
    "  ProcessList: {\n",
    "    SegFiller: {\n",
    "      # DatumFillerBase configuration\n",
    "      Verbosity: 2\n",
    "      ImageProducer:     \"wire\"\n",
    "      LabelProducer:     \"segment\"\n",
    "      WeightProducer:    \"ts_keyspweight\"\n",
    "      # SegFiller configuration\n",
    "      Channels: [2]\n",
    "      SegChannel: 2\n",
    "      EnableMirror: false\n",
    "      EnableCrop: false\n",
    "      ClassTypeList: [0,1,2]\n",
    "      ClassTypeDef: [0,0,0,2,2,2,1,1,1,1]\n",
    "    }\n",
    "  }\n",
    "}\n",
    "\"\"\"\n",
    "\n",
    "with open(\"segfiller.cfg\",'w') as f:\n",
    "    print >> f,segcfg\n"
   ]
  },
  {
   "cell_type": "code",
   "execution_count": null,
   "metadata": {
    "scrolled": true
   },
   "outputs": [],
   "source": [
    "io = larcv.ThreadDatumFiller()\n",
    "io.configure(\"segfiller.cfg\")\n",
    "nentries = io.get_n_entries()"
   ]
  },
  {
   "cell_type": "code",
   "execution_count": null,
   "metadata": {},
   "outputs": [],
   "source": [
    "s = time.time()\n",
    "io.set_next_index(0);\n",
    "io.batch_process(10)\n",
    "io.thread_running()\n",
    "s = time.time()-s\n",
    "print s,\"sec\""
   ]
  },
  {
   "cell_type": "code",
   "execution_count": null,
   "metadata": {},
   "outputs": [],
   "source": [
    "print s"
   ]
  },
  {
   "cell_type": "code",
   "execution_count": null,
   "metadata": {},
   "outputs": [],
   "source": [
    "dim = io.dim()\n",
    "img     = larcv.as_ndarray(io.data()).reshape( (dim[0],dim[1],dim[2],dim[3]) )\n",
    "labels  = larcv.as_ndarray(io.labels()).reshape( (dim[0],dim[2],dim[3]) )\n",
    "weights = larcv.as_ndarray(io.weights()).reshape( (dim[0],dim[2],dim[3]) )\n"
   ]
  },
  {
   "cell_type": "code",
   "execution_count": null,
   "metadata": {},
   "outputs": [],
   "source": [
    "def showImgAndLabels(image2d,label2d,weight2d):\n",
    "    # Dump images\n",
    "    fig, (ax0,ax1,ax2) = plt.subplots(1, 3, figsize=(10,10), facecolor='w')\n",
    "    ax0.imshow(image2d,  interpolation='none', cmap='jet', origin='lower')\n",
    "    ax1.imshow(label2d,  interpolation='none', cmap='jet', origin='lower',vmin=0., vmax=3.1)\n",
    "    ax2.imshow(weight2d, interpolation='none', cmap='jet', origin='lower',vmin=0., vmax=500.0)\n",
    "    ax0.set_title('Data',fontsize=20,fontname='Georgia',fontweight='bold')\n",
    "    #ax0.set_xlim(xlim)\n",
    "    #ax0.set_ylim(ylim)\n",
    "    ax1.set_title('Label',fontsize=20,fontname='Georgia',fontweight='bold')\n",
    "    #ax1.set_xlim(xlim)\n",
    "    #ax1.set_ylim(ylim)\n",
    "    ax2.set_title('Weight',fontsize=20,fontname='Georgia',fontweight='bold')\n",
    "    plt.show()"
   ]
  },
  {
   "cell_type": "code",
   "execution_count": null,
   "metadata": {},
   "outputs": [],
   "source": [
    "batchindex = 2\n",
    "showImgAndLabels(img[batchindex,0,:,:],labels[batchindex,:,:],weights[batchindex,:,:])"
   ]
  },
  {
   "cell_type": "code",
   "execution_count": null,
   "metadata": {},
   "outputs": [],
   "source": []
  }
 ],
 "metadata": {
  "kernelspec": {
   "display_name": "Python 2",
   "language": "python",
   "name": "python2"
  },
  "language_info": {
   "codemirror_mode": {
    "name": "ipython",
    "version": 2
   },
   "file_extension": ".py",
   "mimetype": "text/x-python",
   "name": "python",
   "nbconvert_exporter": "python",
   "pygments_lexer": "ipython2",
   "version": "2.7.12"
  }
 },
 "nbformat": 4,
 "nbformat_minor": 2
}
